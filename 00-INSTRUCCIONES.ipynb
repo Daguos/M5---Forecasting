{
 "cells": [
  {
   "cell_type": "markdown",
   "metadata": {},
   "source": [
    "Este trabajo se debe correr desde un jupyter notebook. Para correrlo completamente por favor tener en consideración la siguiente información.\n",
    "\n",
    "Instalar las siguientes librerias de python en un entorno de ejecución o en el entorno base:\n",
    "\n",
    "TensorFlow\n",
    "FB Prophet\n",
    "Matplotlib\n",
    "downcast\n",
    "Sklearn\n",
    "Seaborn\n",
    "Pandas\n",
    "Tqdm\n",
    "\n",
    "Paso 1- Clonar el repositorio desde el GitHub https://github.com/Daguos/M5---Forecasting\n",
    "Paso 2- Abrir el notebook que se desea correr (EDA o Final Model)\n",
    "Paso 3- Correr el notebook en el orden que se presenta, un salto podria ocasionar errores\n",
    "\n",
    "Nota: Algunos puntos requieres tener una ram superior a los 12 o 16 GB, tener en cuenta a la hora de correrlo."
   ]
  }
 ],
 "metadata": {
  "kernelspec": {
   "display_name": "Python 3",
   "language": "python",
   "name": "python3"
  },
  "language_info": {
   "codemirror_mode": {
    "name": "ipython",
    "version": 3
   },
   "file_extension": ".py",
   "mimetype": "text/x-python",
   "name": "python",
   "nbconvert_exporter": "python",
   "pygments_lexer": "ipython3",
   "version": "3.8.3"
  }
 },
 "nbformat": 4,
 "nbformat_minor": 4
}
